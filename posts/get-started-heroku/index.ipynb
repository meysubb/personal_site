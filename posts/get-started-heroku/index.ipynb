{
  "cells": [
    {
      "cell_type": "raw",
      "metadata": {},
      "source": [
        "---\n",
        "title: 'Heroku for Data'\n",
        "date:  '2019-03-14'\n",
        "categories: ['R', 'Python', 'Heroku']\n",
        "description: 'Automate Tweets with Heroku'\n",
        "execute: \n",
        "  message: false\n",
        "  warning: false\n",
        "editor_options: \n",
        "  chunk_output_type: console\n",
        "---"
      ],
      "id": "b73b5f30"
    },
    {
      "cell_type": "markdown",
      "metadata": {},
      "source": [
        "Over the past few months, I've found myself relying on Heroku a lot! My two use cases for Heroku are (1) \\[Twitter bot\\](https://twitter.com/ChartsSec) posting about SEC basketball using ncaahoopR and (2) scraping both NCAA baseball and basketball data for use in a few different projects. \\\n",
        "\\\n",
        "If you find yourself running repetitive proccesses, I highly reccomend using Heroku! I'll walk through both my projects and some useful tips I've learnt. \\\n",
        "\\\n",
        "\\\n",
        "**\\### Set-up Heroku** \\\n",
        "Obviously, if you don't already have an account with Herkou set one up. It's free. It's also helpful to have their CLI set up, the \\[instructions\\](https://devcenter.heroku.com/articles/heroku-cli) on their website are pretty straight forward to get you started. \\\n",
        "\\\n",
        "Whatever you push to your git repo is what will also be pushed to heroku after commiting to git. But first let's figure out how to get our app started. You don't neccessarily need to host apps on Heroku but can use it similar to a cron service if you'd like. \\\n",
        "\\\n",
        "A note Heroku is an ephemeral system. What this means is the files you create/scrape will not last long on the server. What you can do in this instance is save to Dropbox/Drive/S3 whatever service you like. \\\n",
        "\n",
        "\n",
        "```{bash, eval=F}\n",
        "heroku login\n",
        "```\n",
        "\n",
        "\n",
        "\\"
      ],
      "id": "e595ca3b"
    }
  ],
  "metadata": {
    "kernelspec": {
      "display_name": "Python 3",
      "language": "python",
      "name": "python3"
    }
  },
  "nbformat": 4,
  "nbformat_minor": 5
}